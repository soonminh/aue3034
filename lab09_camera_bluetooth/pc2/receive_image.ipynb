{
 "cells": [
  {
   "cell_type": "markdown",
   "metadata": {},
   "source": [
    "# AUE3034, Lab09: Camera + Bluetooth"
   ]
  },
  {
   "cell_type": "code",
   "execution_count": null,
   "metadata": {},
   "outputs": [],
   "source": [
    "# Install python packages\n",
    "!pip3 install pyserial Pillow"
   ]
  },
  {
   "cell_type": "code",
   "execution_count": 23,
   "metadata": {},
   "outputs": [],
   "source": [
    "import serial\n",
    "from io import BytesIO\n",
    "from PIL import Image, ImageFile\n",
    "from serial.tools import list_ports\n",
    "\n",
    "ImageFile.LOAD_TRUNCATED_IMAGES = True"
   ]
  },
  {
   "cell_type": "code",
   "execution_count": 24,
   "metadata": {},
   "outputs": [
    {
     "name": "stdout",
     "output_type": "stream",
     "text": [
      "/dev/cu.Bluetooth-Incoming-Port - n/a\n",
      "/dev/cu.H-C-2010-06-01 - n/a\n"
     ]
    }
   ],
   "source": [
    "# Scan COM ports\n",
    "comports = list_ports.comports()\n",
    "for info in comports:\n",
    "    print(info)"
   ]
  },
  {
   "cell_type": "markdown",
   "metadata": {},
   "source": [
    "## Open a COM port\n",
    "---\n",
    "### Case 1. PC 1 <-> Arduino 1 <-> Bluetooth 1 <-> PC 2\n",
    "- Select COM port for the Bluetooth module on Arduino (Bluetooth 1)\n",
    "\n",
    "### Case 2. PC 1 <-> Arduino 1 <-> Bluetooth 1 <-> Bluetooth 2 <-> Arduino 2 <-> PC 2\n",
    "- Select COM port for **USB** (Arduino 2 <-> PC 2)"
   ]
  },
  {
   "cell_type": "code",
   "execution_count": null,
   "metadata": {},
   "outputs": [],
   "source": [
    "# # Case 1\n",
    "# scomm = serial.Serial()\n",
    "# scomm.port = '/dev/cu.Bluetooth-Incoming-Port'    # MAC\n",
    "# scomm.port = 'COM10'                              # Windows\n",
    "# scomm.baudrate = 38400\n",
    "# scomm.timeout = None\n",
    "# scomm.open()\n",
    "\n",
    "# Case 2\n",
    "scomm = serial.Serial()\n",
    "scomm.port = '/dev/cu.usbmodem21101'    # MAC\n",
    "# scomm.port = 'COM10'                    # Windows\n",
    "scomm.baudrate = 38400\n",
    "scomm.timeout = None\n",
    "scomm.open()"
   ]
  },
  {
   "cell_type": "markdown",
   "metadata": {},
   "source": [
    "### Connection test"
   ]
  },
  {
   "cell_type": "code",
   "execution_count": null,
   "metadata": {},
   "outputs": [],
   "source": [
    "# Send a text from PC 2 to PC 1\n",
    "scomm.write(\"Connection Test\".encode())\n",
    "\n",
    "# Then, you'll see \"Connection Test\" on serial monitor of PC 1"
   ]
  },
  {
   "cell_type": "markdown",
   "metadata": {},
   "source": [
    "### Receive an image\n",
    "- On serial monitor of PC 1, type \"c\"\n",
    "- Then, Arduino 1 will request an image to the camera via SPI\n",
    "- Arduino 1 will send data of an image (JPEG compressed) via Bluetooth"
   ]
  },
  {
   "cell_type": "code",
   "execution_count": null,
   "metadata": {},
   "outputs": [],
   "source": [
    "# Check the buffer\n",
    "print(scomm.inWaiting())"
   ]
  },
  {
   "cell_type": "code",
   "execution_count": null,
   "metadata": {},
   "outputs": [],
   "source": [
    "# If PC 1 received data, then read it\n",
    "data = scomm.read(scomm.inWaiting())"
   ]
  },
  {
   "cell_type": "code",
   "execution_count": null,
   "metadata": {},
   "outputs": [],
   "source": [
    "# Decode JPEG data and restore an image\n",
    "image = Image.open(BytesIO(data))"
   ]
  },
  {
   "cell_type": "code",
   "execution_count": null,
   "metadata": {},
   "outputs": [],
   "source": [
    "from IPython.display import display\n",
    "\n",
    "# Show the image\n",
    "display(image)\n",
    "\n",
    "# Save to file\n",
    "image.save('test.jpg')"
   ]
  },
  {
   "cell_type": "code",
   "execution_count": null,
   "metadata": {},
   "outputs": [],
   "source": [
    "# Close the COM port\n",
    "scomm.close()"
   ]
  }
 ],
 "metadata": {
  "kernelspec": {
   "display_name": "Python 3",
   "language": "python",
   "name": "python3"
  },
  "language_info": {
   "codemirror_mode": {
    "name": "ipython",
    "version": 3
   },
   "file_extension": ".py",
   "mimetype": "text/x-python",
   "name": "python",
   "nbconvert_exporter": "python",
   "pygments_lexer": "ipython3",
   "version": "3.9.6"
  }
 },
 "nbformat": 4,
 "nbformat_minor": 2
}
